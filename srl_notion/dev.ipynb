{
 "cells": [
  {
   "cell_type": "code",
   "execution_count": 1,
   "metadata": {},
   "outputs": [],
   "source": [
    "from typing import Optional, List, Dict, Generator, Any, Tuple\n",
    "from collections import defaultdict, deque\n",
    "import pathlib\n",
    "\n",
    "import requests\n",
    "from pydantic import HttpUrl\n",
    "\n",
    "from api_connection import NotionAPIConnector\n",
    "from api_result_fetcher import ResultFetcher\n",
    "from dict_deque import DictQueueStructure\n",
    "from updater import DictDequeueStructureUpdater\n",
    "\n",
    "connector = NotionAPIConnector()\n",
    "raw_response:dict = connector.main()\n",
    "headers = connector.headers\n",
    "\n",
    "fetcher = ResultFetcher(raw_response=raw_response, headers=headers)\n",
    "\n",
    "res = fetcher.main()"
   ]
  },
  {
   "cell_type": "code",
   "execution_count": 2,
   "metadata": {},
   "outputs": [
    {
     "data": {
      "text/plain": [
       "defaultdict(collections.deque,\n",
       "            {'Ton per': deque([{'page ton père': 'https://www.notion.so/page-ton-p-re-50da195ac4d54448a0e255cbc9e65bb5'}]),\n",
       "             'ta mere': deque([{'ta mere': 'https://www.notion.so/ta-mere-80497c9312324710b14db45a27563932'}]),\n",
       "             'Page test': deque([{'Page test': 'https://www.notion.so/Page-test-e54dd41c3ac247bbb7218cbb744990de'},\n",
       "                    {'Salut les peds': 'https://www.notion.so/Salut-les-peds-a04171d69b3040dfbbd90e7577bcbfd3'},\n",
       "                    {'Propal Raphael ': 'https://www.notion.so/Propal-Raphael-e266eee4b5134c48a7937dfa05b5240f'},\n",
       "                    {'ma bite t': 'https://www.notion.so/ma-bite-t-7c547acf50de431a8b9559858a152330'}])})"
      ]
     },
     "execution_count": 2,
     "metadata": {},
     "output_type": "execute_result"
    }
   ],
   "source": [
    "updater = DictDequeueStructureUpdater(response_result_fetcher=res)\n",
    "\n",
    "t = updater.update_and_save()\n",
    "t"
   ]
  },
  {
   "cell_type": "code",
   "execution_count": 10,
   "metadata": {},
   "outputs": [],
   "source": [
    "import utils\n",
    "\n",
    "class InterfaceUser:\n",
    "    \n",
    "    \"\"\" \n",
    "    Bridge between the user and the data structure\n",
    "    Take the up to date data structure, modify it as the user interact with it \n",
    "    \"\"\"\n",
    "\n",
    "    BASE_MENU = \"{}) All subjects\\n{}) Shuffle the order for the current scope\\n{}) Delete a subject from this session\\n{}) Back to the default scope\\n\"\n",
    "\n",
    "    \n",
    "    PATH_DICT_COUNT = pathlib.Path.cwd() / \"data\" / \"count_dict_structure.pkl\"\n",
    "\n",
    "\n",
    "    \n",
    "    def __init__(self, updated_data_structure:defaultdict[str, deque]):\n",
    "        self.updated_data_structure = updated_data_structure\n",
    "    \n",
    "    \n",
    "    def main(self):\n",
    "        \n",
    "\n",
    "        count_dict:dict[str, int] = InterfaceUser.update_or_create_count_dict(updated_data_structure=self.updated_data_structure, path_pickle_dict=InterfaceUser.PATH_DICT_COUNT)\n",
    "        menu = InterfaceUser.create_menu(updated_data_structure=self.updated_data_structure, count_dict=count_dict)\n",
    "        return menu \n",
    "    \n",
    "    @staticmethod\n",
    "    def update_or_create_count_dict(updated_data_structure:defaultdict[str, deque],\n",
    "                                     path_pickle_dict:pathlib.Path) -> dict[str, int]:\n",
    "        \"\"\" \n",
    "        To keep track of the number of session that the user haven't read about a given subject\n",
    "        \"\"\"\n",
    "        if not pathlib.Path.exists(path_pickle_dict):\n",
    "            \n",
    "            dict_to_save = {subject : 0 for subject in updated_data_structure}\n",
    "            \n",
    "            utils.save_pickle(object_=dict_to_save, path_to_save=InterfaceUser.PATH_DICT_COUNT)\n",
    "            \n",
    "            return dict_to_save\n",
    "        \n",
    "        else:\n",
    "            saved_dict:dict = utils.load_pickle(path_object=InterfaceUser.PATH_DICT_COUNT)\n",
    "            \n",
    "            subject:str\n",
    "            for subject in updated_data_structure:\n",
    "                saved_dict.setdefault(subject, 0)\n",
    "                \n",
    "                \n",
    "            return saved_dict\n",
    "            \n",
    "\n",
    "                \n",
    "            \n",
    "    @staticmethod\n",
    "    def create_menu(updated_data_structure:defaultdict[str, deque],\n",
    "                    count_dict:dict[str, int]) -> str:\n",
    "        \n",
    "        number_of_elements:int = len(InterfaceUser.BASE_MENU.split(\"\\n\")) + len(updated_data_structure)\n",
    "        \n",
    "        subjects_to_add_to_menu:str = \"\\n\".join([\"{}) \" + subject + f\" (last seen ; {count_dict[subject]} session(s) ago)\"  for subject in updated_data_structure])\n",
    "        \n",
    "        final_menu:str = InterfaceUser.BASE_MENU + subjects_to_add_to_menu\n",
    "        return final_menu.format(*list(range(number_of_elements)))"
   ]
  },
  {
   "cell_type": "code",
   "execution_count": 11,
   "metadata": {},
   "outputs": [
    {
     "name": "stdout",
     "output_type": "stream",
     "text": [
      "0) All subjects\n",
      "1) Shuffle the order for the current scope\n",
      "2) Delete a subject from this session\n",
      "3) Back to the default scope\n",
      "4) Ton per (last seen ; 0 session(s) ago)\n",
      "5) ta mere (last seen ; 0 session(s) ago)\n",
      "6) Page test (last seen ; 0 session(s) ago)\n"
     ]
    }
   ],
   "source": [
    "machin = InterfaceUser(updated_data_structure=t)\n",
    "m = machin.main()\n",
    "print(m)"
   ]
  }
 ],
 "metadata": {
  "kernelspec": {
   "display_name": "Python 3",
   "language": "python",
   "name": "python3"
  },
  "language_info": {
   "codemirror_mode": {
    "name": "ipython",
    "version": 3
   },
   "file_extension": ".py",
   "mimetype": "text/x-python",
   "name": "python",
   "nbconvert_exporter": "python",
   "pygments_lexer": "ipython3",
   "version": "3.10.12"
  }
 },
 "nbformat": 4,
 "nbformat_minor": 2
}
