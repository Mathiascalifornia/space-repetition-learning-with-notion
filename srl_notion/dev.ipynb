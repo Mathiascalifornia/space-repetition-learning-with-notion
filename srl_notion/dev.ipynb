{
 "cells": [
  {
   "cell_type": "code",
   "execution_count": 1,
   "metadata": {},
   "outputs": [],
   "source": [
    "from typing import Optional, List, Dict, Generator, Any, Tuple\n",
    "from collections import defaultdict, deque\n",
    "import pathlib\n",
    "\n",
    "import requests\n",
    "from pydantic import HttpUrl\n",
    "\n",
    "from api_connection import NotionAPIConnector\n",
    "from api_result_fetcher import ResultFetcher\n",
    "from dict_deque import DictQueueStructure\n",
    "from updater import DictDequeueStructureUpdater\n",
    "from interface_user import InterfaceUser\n",
    "import utils\n",
    "\n",
    "connector = NotionAPIConnector()\n",
    "raw_response:dict = connector.main()\n",
    "headers = connector.headers\n",
    "\n",
    "fetcher = ResultFetcher(raw_response=raw_response, headers=headers)\n",
    "\n",
    "res = fetcher.main()"
   ]
  },
  {
   "cell_type": "code",
   "execution_count": 2,
   "metadata": {},
   "outputs": [
    {
     "data": {
      "text/plain": [
       "defaultdict(collections.deque,\n",
       "            {'Ton per': deque([{'page ton père': 'https://www.notion.so/page-ton-p-re-50da195ac4d54448a0e255cbc9e65bb5'}]),\n",
       "             'ta mere': deque([{'ta mere': 'https://www.notion.so/ta-mere-80497c9312324710b14db45a27563932'}]),\n",
       "             'Page test': deque([{'Page test': 'https://www.notion.so/Page-test-e54dd41c3ac247bbb7218cbb744990de'},\n",
       "                    {'Salut les peds': 'https://www.notion.so/Salut-les-peds-a04171d69b3040dfbbd90e7577bcbfd3'},\n",
       "                    {'Propal Raphael ': 'https://www.notion.so/Propal-Raphael-e266eee4b5134c48a7937dfa05b5240f'},\n",
       "                    {'ma bite t': 'https://www.notion.so/ma-bite-t-7c547acf50de431a8b9559858a152330'}])})"
      ]
     },
     "execution_count": 2,
     "metadata": {},
     "output_type": "execute_result"
    }
   ],
   "source": [
    "updater = DictDequeueStructureUpdater(response_result_fetcher=res)\n",
    "\n",
    "t = updater.update_and_save()\n",
    "t"
   ]
  },
  {
   "cell_type": "code",
   "execution_count": 6,
   "metadata": {},
   "outputs": [
    {
     "data": {
      "text/plain": [
       "'Page test'"
      ]
     },
     "execution_count": 6,
     "metadata": {},
     "output_type": "execute_result"
    }
   ],
   "source": [
    "import random \n",
    "\n",
    "random.choice(tuple(t.keys()))"
   ]
  },
  {
   "cell_type": "code",
   "execution_count": null,
   "metadata": {},
   "outputs": [],
   "source": [
    "import atexit\n",
    "import pickle\n",
    "\n",
    "# Liste à sauvegarder\n",
    "ma_liste = [1, 2, 3, 4, 5]\n",
    "\n",
    "# Fonction appelée lors de la fin du programme\n",
    "def sauvegarder_liste():\n",
    "    with open(\"ma_liste_sauvegardee.pkl\", \"wb\") as f:\n",
    "        pickle.dump(ma_liste, f)\n",
    "    print(\"Liste sauvegardée dans 'ma_liste_sauvegardee.pkl'\")\n",
    "\n",
    "# Enregistrer la fonction à appeler à la fin du programme\n",
    "atexit.register(sauvegarder_liste)\n",
    "\n",
    "print(\"Le programme est en cours d'exécution. Appuyez sur Ctrl + C pour l'arrêter.\")\n",
    "\n",
    "# Boucle infinie pour simuler un programme qui tourne\n",
    "while True:\n",
    "    try:\n",
    "        t = input(\"Salut !\")\n",
    "\n",
    "    except KeyboardInterrupt:\n",
    "        print(\"\\nInterruption par Ctrl + C détectée. Le programme va se terminer.\")\n",
    "        break\n"
   ]
  },
  {
   "cell_type": "code",
   "execution_count": 3,
   "metadata": {},
   "outputs": [
    {
     "name": "stdout",
     "output_type": "stream",
     "text": [
      "You have to enter a single number in the range ('0', '1', '2', '3', '4', '5', '6')\n",
      "You have to enter a single number in the range ('0', '1', '2', '3', '4', '5', '6')\n",
      "You have to enter a single number in the range ('0', '1', '2', '3', '4', '5', '6')\n",
      "You have to enter a single number in the range ('0', '1', '2', '3', '4', '5', '6')\n",
      "You have to enter a single number in the range ('0', '1', '2', '3', '4', '5', '6')\n"
     ]
    }
   ],
   "source": [
    "machin = InterfaceUser(updated_data_structure=t)\n",
    "machin.main()"
   ]
  }
 ],
 "metadata": {
  "kernelspec": {
   "display_name": "Python 3",
   "language": "python",
   "name": "python3"
  },
  "language_info": {
   "codemirror_mode": {
    "name": "ipython",
    "version": 3
   },
   "file_extension": ".py",
   "mimetype": "text/x-python",
   "name": "python",
   "nbconvert_exporter": "python",
   "pygments_lexer": "ipython3",
   "version": "3.10.11"
  }
 },
 "nbformat": 4,
 "nbformat_minor": 2
}
