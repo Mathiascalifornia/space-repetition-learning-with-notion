{
 "cells": [
  {
   "cell_type": "code",
   "execution_count": 1,
   "metadata": {},
   "outputs": [],
   "source": [
    "\n",
    "\n",
    "from api_connection import NotionAPIConnector\n",
    "from api_result_fetcher import ResultFetcher\n",
    "from updater import DictDequeueStructureUpdater\n",
    "from interface_user import InterfaceUser\n",
    "\n",
    "connector = NotionAPIConnector()\n",
    "raw_response:dict = connector.main()\n",
    "headers = connector.headers\n",
    "\n",
    "fetcher = ResultFetcher(raw_response=raw_response, headers=headers)\n",
    "\n",
    "res = fetcher.main()"
   ]
  },
  {
   "cell_type": "code",
   "execution_count": 3,
   "metadata": {},
   "outputs": [
    {
     "data": {
      "text/plain": [
       "defaultdict(collections.deque,\n",
       "            {'Ton per': deque([{'page ton père': 'https://www.notion.so/page-ton-p-re-50da195ac4d54448a0e255cbc9e65bb5'}]),\n",
       "             'ta mere': deque([{'ta mere': 'https://www.notion.so/ta-mere-80497c9312324710b14db45a27563932'}]),\n",
       "             'Page test': deque([{'Page test': 'https://www.notion.so/Page-test-e54dd41c3ac247bbb7218cbb744990de'},\n",
       "                    {'Salut les peds': 'https://www.notion.so/Salut-les-peds-a04171d69b3040dfbbd90e7577bcbfd3'},\n",
       "                    {'Propal Raphael ': 'https://www.notion.so/Propal-Raphael-e266eee4b5134c48a7937dfa05b5240f'},\n",
       "                    {'ma bite t': 'https://www.notion.so/ma-bite-t-7c547acf50de431a8b9559858a152330'}])})"
      ]
     },
     "execution_count": 3,
     "metadata": {},
     "output_type": "execute_result"
    }
   ],
   "source": [
    "updater = DictDequeueStructureUpdater(response_result_fetcher=res)\n",
    "\n",
    "t = updater.update_and_save()\n",
    "t"
   ]
  },
  {
   "cell_type": "code",
   "execution_count": 2,
   "metadata": {},
   "outputs": [
    {
     "data": {
      "text/plain": [
       "'22:23:12'"
      ]
     },
     "execution_count": 2,
     "metadata": {},
     "output_type": "execute_result"
    }
   ],
   "source": [
    "import datetime \n",
    "\n",
    "datetime.datetime.now().strftime('%H:%M:%S')"
   ]
  }
 ],
 "metadata": {
  "kernelspec": {
   "display_name": "Python 3",
   "language": "python",
   "name": "python3"
  },
  "language_info": {
   "codemirror_mode": {
    "name": "ipython",
    "version": 3
   },
   "file_extension": ".py",
   "mimetype": "text/x-python",
   "name": "python",
   "nbconvert_exporter": "python",
   "pygments_lexer": "ipython3",
   "version": "3.10.11"
  }
 },
 "nbformat": 4,
 "nbformat_minor": 2
}
