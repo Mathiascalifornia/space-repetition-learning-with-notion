{
 "cells": [
  {
   "cell_type": "code",
   "execution_count": 1,
   "metadata": {},
   "outputs": [],
   "source": [
    "from typing import Optional, List, Dict, Generator, Any, Tuple\n",
    "from collections import defaultdict, deque\n",
    "\n",
    "\n",
    "import requests\n",
    "from pydantic import HttpUrl\n",
    "\n",
    "from api_connection import NotionAPIConnector\n",
    "from api_result_fetcher import ResultFetcher\n",
    "from dict_deque import DictQueueStructure\n",
    "from updater import DictDequeueStructureUpdater\n",
    "\n",
    "connector = NotionAPIConnector()\n",
    "raw_response:dict = connector.main()\n",
    "headers = connector.headers\n",
    "\n",
    "fetcher = ResultFetcher(raw_response=raw_response, headers=headers)\n",
    "\n",
    "res = fetcher.main()"
   ]
  },
  {
   "cell_type": "code",
   "execution_count": 4,
   "metadata": {},
   "outputs": [
    {
     "ename": "TypeError",
     "evalue": "DictDequeueStructureUpdater() takes no arguments",
     "output_type": "error",
     "traceback": [
      "\u001b[0;31m---------------------------------------------------------------------------\u001b[0m",
      "\u001b[0;31mTypeError\u001b[0m                                 Traceback (most recent call last)",
      "Cell \u001b[0;32mIn[4], line 1\u001b[0m\n\u001b[0;32m----> 1\u001b[0m updater \u001b[38;5;241m=\u001b[39m \u001b[43mDictDequeueStructureUpdater\u001b[49m\u001b[43m(\u001b[49m\u001b[43mresponse_result_fetcher\u001b[49m\u001b[38;5;241;43m=\u001b[39;49m\u001b[43mres\u001b[49m\u001b[43m)\u001b[49m\n\u001b[1;32m      3\u001b[0m t \u001b[38;5;241m=\u001b[39m updater\u001b[38;5;241m.\u001b[39mupdate_and_save()\n\u001b[1;32m      4\u001b[0m t\n",
      "\u001b[0;31mTypeError\u001b[0m: DictDequeueStructureUpdater() takes no arguments"
     ]
    }
   ],
   "source": [
    "updater = DictDequeueStructureUpdater(response_result_fetcher=res)\n",
    "\n"
   ]
  },
  {
   "cell_type": "code",
   "execution_count": 6,
   "metadata": {},
   "outputs": [
    {
     "name": "stdout",
     "output_type": "stream",
     "text": [
      "<class 'collections.defaultdict'>\n",
      "deque([{'OMG une page ! (1)': 'https://www.notion.so/OMG-une-page-1-14c3cb01ecb04518a3641291e6e4d109'}, {}])\n",
      "{'OMG une page ! (1)': 'https://www.notion.so/OMG-une-page-1-14c3cb01ecb04518a3641291e6e4d109'}\n",
      "[]\n",
      "{}\n",
      "[]\n"
     ]
    },
    {
     "data": {
      "text/plain": [
       "{}"
      ]
     },
     "execution_count": 6,
     "metadata": {},
     "output_type": "execute_result"
    }
   ],
   "source": [
    "t = updater.update_and_save()\n"
   ]
  },
  {
   "cell_type": "code",
   "execution_count": 7,
   "metadata": {},
   "outputs": [
    {
     "data": {
      "text/plain": [
       "{}"
      ]
     },
     "execution_count": 7,
     "metadata": {},
     "output_type": "execute_result"
    }
   ],
   "source": [
    "t[\"Ton per\"][-1] = {\"Balec\" : \"TOSUP\"}"
   ]
  },
  {
   "cell_type": "code",
   "execution_count": 3,
   "metadata": {},
   "outputs": [],
   "source": [
    "class InterfaceUser:\n",
    "    \n",
    "    \"\"\" \n",
    "    Bridge between the user and the data structure\n",
    "    Take the up to date data structure, modify it as the user interact with it \n",
    "    \"\"\"\n",
    "    \n",
    "class DictDequeueStructureUpdater:\n",
    "    \n",
    "    \"\"\" \n",
    "    Take the raw response from the result fetcher, and the previous saved data structure\n",
    "    update the data structure before going to the inferface\n",
    "    Save the structure with it's new order at the end of the execution\n",
    "    \"\"\""
   ]
  }
 ],
 "metadata": {
  "kernelspec": {
   "display_name": "Python 3",
   "language": "python",
   "name": "python3"
  },
  "language_info": {
   "codemirror_mode": {
    "name": "ipython",
    "version": 3
   },
   "file_extension": ".py",
   "mimetype": "text/x-python",
   "name": "python",
   "nbconvert_exporter": "python",
   "pygments_lexer": "ipython3",
   "version": "3.10.12"
  }
 },
 "nbformat": 4,
 "nbformat_minor": 2
}
