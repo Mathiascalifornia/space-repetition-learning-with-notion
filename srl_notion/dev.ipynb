{
 "cells": [
  {
   "cell_type": "code",
   "execution_count": 1,
   "metadata": {},
   "outputs": [],
   "source": [
    "\n",
    "\n",
    "from api_connection import NotionAPIConnector\n",
    "from api_result_fetcher import ResultFetcher\n",
    "from updater import DictDequeueStructureUpdater\n",
    "from interface_user import InterfaceUser\n",
    "\n",
    "connector = NotionAPIConnector()\n",
    "raw_response:dict = connector.main()\n",
    "headers = connector.headers\n",
    "\n",
    "fetcher = ResultFetcher(raw_response=raw_response, headers=headers)\n",
    "\n",
    "res = fetcher.main()"
   ]
  },
  {
   "cell_type": "code",
   "execution_count": 3,
   "metadata": {},
   "outputs": [
    {
     "data": {
      "text/plain": [
       "defaultdict(collections.deque,\n",
       "            {'Ton per': deque([{'page ton père': 'https://www.notion.so/page-ton-p-re-50da195ac4d54448a0e255cbc9e65bb5'}]),\n",
       "             'ta mere': deque([{'ta mere': 'https://www.notion.so/ta-mere-80497c9312324710b14db45a27563932'}]),\n",
       "             'Page test': deque([{'Page test': 'https://www.notion.so/Page-test-e54dd41c3ac247bbb7218cbb744990de'},\n",
       "                    {'Salut les peds': 'https://www.notion.so/Salut-les-peds-a04171d69b3040dfbbd90e7577bcbfd3'},\n",
       "                    {'Propal Raphael ': 'https://www.notion.so/Propal-Raphael-e266eee4b5134c48a7937dfa05b5240f'},\n",
       "                    {'ma bite t': 'https://www.notion.so/ma-bite-t-7c547acf50de431a8b9559858a152330'}])})"
      ]
     },
     "execution_count": 3,
     "metadata": {},
     "output_type": "execute_result"
    }
   ],
   "source": [
    "updater = DictDequeueStructureUpdater(response_result_fetcher=res)\n",
    "\n",
    "t = updater.update_and_save()\n",
    "t"
   ]
  },
  {
   "cell_type": "code",
   "execution_count": 2,
   "metadata": {},
   "outputs": [
    {
     "data": {
      "text/plain": [
       "'22:23:12'"
      ]
     },
     "execution_count": 2,
     "metadata": {},
     "output_type": "execute_result"
    }
   ],
   "source": [
    "import datetime \n",
    "\n",
    "datetime.datetime.now().strftime('%H:%M:%S')"
   ]
  },
  {
   "cell_type": "code",
   "execution_count": 9,
   "metadata": {},
   "outputs": [],
   "source": [
    "import pickle\n",
    "import pathlib\n",
    "from typing import Any\n",
    "\n",
    "\n",
    "def load_pickle(path_object: pathlib.Path) -> Any:\n",
    "    with open(path_object, \"rb\") as f:  # rb -> Read Binary\n",
    "        return pickle.load(f)\n",
    "\n",
    "\n",
    "def save_pickle(object_: Any, path_to_save: pathlib.Path) -> None:\n",
    "    with open(path_to_save, \"wb\") as f:\n",
    "        pickle.dump(object_, f)\n",
    "\n",
    "t = load_pickle(r\"\\\\wsl.localhost\\Ubuntu\\home\\lucas\\space-repetition-learning-with-notion\\srl_notion\\data\\data_structure.pkl\")"
   ]
  },
  {
   "cell_type": "code",
   "execution_count": 10,
   "metadata": {},
   "outputs": [
    {
     "data": {
      "text/plain": [
       "deque([{'L’effet “Matthew”': 'https://www.notion.so/L-effet-Matthew-bf96938692294aa4b3cba4b3189d1fbe'},\n",
       "       {'Théorie': 'https://www.notion.so/Th-orie-6e47454e982041c6bcff0f470bd22620'},\n",
       "       {'IE dans le cerveau': 'https://www.notion.so/IE-dans-le-cerveau-84dad139fab841ebb5c7b9f8e8c74382'},\n",
       "       {'Les piliers de l’IE selon Goleman': 'https://www.notion.so/Les-piliers-de-l-IE-selon-Goleman-cd3d625b8f1e4bb89822ece8e3bd7020'},\n",
       "       {'Emotional self awareness': 'https://www.notion.so/Emotional-self-awareness-2d57dba2fe9b40238c99061410c4b3a8'},\n",
       "       {'Maitrise de soi': 'https://www.notion.so/Maitrise-de-soi-349fd4673392431aaa91d2322a6d4b53'},\n",
       "       {'la colère': 'https://www.notion.so/la-col-re-46c08c7bc65a4c90be5c04b719b6fd94'},\n",
       "       {'L’anxiété': 'https://www.notion.so/L-anxi-t-f8d61ddab4e6414397a87279e043684e'},\n",
       "       {'Tristesse': 'https://www.notion.so/Tristesse-1fbef2d4855b4a7395cf2b397d08c4fe'},\n",
       "       {'Repression': 'https://www.notion.so/Repression-0ec1c599d38344f4a0af9b06dbf32750'},\n",
       "       {'Se mettre dans les bonne dispositions / se motiver': 'https://www.notion.so/Se-mettre-dans-les-bonne-dispositions-se-motiver-e6e2566fa4ae456d9eda899298d756e4'},\n",
       "       {'Flow': 'https://www.notion.so/Flow-3f2b36eeb3f94f28b22e62023dd0ac19'},\n",
       "       {'The Social Art': 'https://www.notion.so/The-Social-Art-750444f5c6b443bc9963d6ba6091a11d'},\n",
       "       {'Empathie': 'https://www.notion.so/Empathie-a11de04d190a46e6af5cf02ecb175139'},\n",
       "       {'Montrer ses émotions': 'https://www.notion.so/Montrer-ses-motions-d150115164d04c0fb5dbc1a9c0bd6053'},\n",
       "       {'Intégration': 'https://www.notion.so/Int-gration-f0932ce2a0ed43cfbf0cb10aea018859'},\n",
       "       {'Aider les gens à se calmer': 'https://www.notion.so/Aider-les-gens-se-calmer-07c9d71e9bcb438ea5c982548902b734'},\n",
       "       {'RelH/F': 'https://www.notion.so/RelH-F-7c7453c39c334a9ba2ba2a09736d325d'},\n",
       "       {'at work': 'https://www.notion.so/at-work-aae149e6950b4e14ab570045f7a62fb8'},\n",
       "       {'IE et santé': 'https://www.notion.so/IE-et-sant-513cab607eba4a1788896d22dee1e94c'},\n",
       "       {'Trauma & relearning': 'https://www.notion.so/Trauma-relearning-b52c4be1019641bc8564a1daaac4881c'},\n",
       "       {'Thérapie ': 'https://www.notion.so/Th-rapie-d0ed0638aae242d6803607bf77082f98'},\n",
       "       {'Temperament': 'https://www.notion.so/Temperament-d829b23785874ccd8361fea6d7ede040'},\n",
       "       {'Citations': 'https://www.notion.so/Citations-1825a9e6498c46cab6c75c9efffa807f'},\n",
       "       {'Patience ': 'https://www.notion.so/Patience-39349b758734408a9e87e494f05e2b54'},\n",
       "       {'Sommeil ': 'https://www.notion.so/Sommeil-16ea1cfa2bbe47e78aac991e29479e91'},\n",
       "       {'Mieux se réveiller le matin': 'https://www.notion.so/Mieux-se-r-veiller-le-matin-a5c0338d807846218f44a796c6fc2b6d'},\n",
       "       {'Intelligence sociale': 'https://www.notion.so/Intelligence-sociale-64f66d4564864d57a79e0b538cbeb887'},\n",
       "       {'Ne jamais être à court de chose à dire ': 'https://www.notion.so/Ne-jamais-tre-court-de-chose-dire-ae8b67df3a7c409bbbbc6f1d86063f73'},\n",
       "       {'Faire une bonne première impression ': 'https://www.notion.so/Faire-une-bonne-premi-re-impression-a79eee0fafce4c0f8585e765294214b0'},\n",
       "       {'Réussir une prise de poste (en entreprise)': 'https://www.notion.so/R-ussir-une-prise-de-poste-en-entreprise-96a84c2db9a74ceab24a61795c64bdaa'},\n",
       "       {'Travail de l’attention': 'https://www.notion.so/Travail-de-l-attention-10f732bb685880a2826ff412deddc6b8'},\n",
       "       {'Open gazing': 'https://www.notion.so/Open-gazing-10f732bb685880aba06aeb17b1d6f477'},\n",
       "       {'Culture G': 'https://www.notion.so/Culture-G-ec99161d863e4178b1939e5d70f169fc'},\n",
       "       {'Différence entre montre quartz et automatique': 'https://www.notion.so/Diff-rence-entre-montre-quartz-et-automatique-ce874022414d4a948c4872222c1d40ef'},\n",
       "       {'Histoire de France': 'https://www.notion.so/Histoire-de-France-115732bb6858806586eaf15b3847b3be'},\n",
       "       {'Très bref résumé de l’histoire de l’humanité ': 'https://www.notion.so/Tr-s-bref-r-sum-de-l-histoire-de-l-humanit-115732bb685880d3bec0e20b33f37c3d'},\n",
       "       {'Celtes & Gaulois': 'https://www.notion.so/Celtes-Gaulois-115732bb685880589c6bdc3b1ffe53e9'},\n",
       "       {'La bretagne ': 'https://www.notion.so/La-bretagne-19111e47f6b0426ca53bef2601f8b02b'},\n",
       "       {'Les principaux peuples et cultures qui ont façonné la France lors de l’Antiquité (et début de moyen âge) ': 'https://www.notion.so/Les-principaux-peuples-et-cultures-qui-ont-fa-onn-la-France-lors-de-l-Antiquit-et-d-but-de-moyen--75adf1ffaf4b46c68c5b5cdb00abe007'},\n",
       "       {'Le moyen âge ': 'https://www.notion.so/Le-moyen-ge-119732bb685880c19cddf1afa334fe67'},\n",
       "       {'Le principe de Peter ': 'https://www.notion.so/Le-principe-de-Peter-b89c7e7ed50e43e0a0eda78e1cef9921'}])"
      ]
     },
     "execution_count": 10,
     "metadata": {},
     "output_type": "execute_result"
    }
   ],
   "source": [
    "t"
   ]
  }
 ],
 "metadata": {
  "kernelspec": {
   "display_name": "Python 3",
   "language": "python",
   "name": "python3"
  },
  "language_info": {
   "codemirror_mode": {
    "name": "ipython",
    "version": 3
   },
   "file_extension": ".py",
   "mimetype": "text/x-python",
   "name": "python",
   "nbconvert_exporter": "python",
   "pygments_lexer": "ipython3",
   "version": "3.10.11"
  }
 },
 "nbformat": 4,
 "nbformat_minor": 2
}
