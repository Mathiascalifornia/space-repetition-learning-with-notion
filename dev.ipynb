{
 "cells": [
  {
   "cell_type": "code",
   "execution_count": 64,
   "metadata": {},
   "outputs": [],
   "source": [
    "from typing import Optional\n",
    "import random \n",
    "\n",
    "import requests\n",
    "\n",
    "from api_connection import NotionAPIConnector\n",
    "\n",
    "connector = NotionAPIConnector()\n",
    "raw_response:dict = connector.main()\n",
    "headers = connector.headers"
   ]
  },
  {
   "cell_type": "code",
   "execution_count": 51,
   "metadata": {},
   "outputs": [
    {
     "data": {
      "text/plain": [
       "{'Ton per': 'fcbca7da-3517-4163-9362-21525d5784f1',\n",
       " 'ta mere': '80497c93-1232-4710-b14d-b45a27563932',\n",
       " 'Page test': 'e54dd41c-3ac2-47bb-b721-8cbb744990de'}"
      ]
     },
     "execution_count": 51,
     "metadata": {},
     "output_type": "execute_result"
    }
   ],
   "source": [
    "class ResultFetcher:\n",
    "    \n",
    "    PAGE_COL_NAME = \"Pages\"\n",
    "    # DESC_COL_NAME = \"Description\"\n",
    "    \n",
    "    \"\"\" \n",
    "    Fetch the results of the raw json response \n",
    "    \"\"\"\n",
    "    \n",
    "    def __init__(self, raw_response:dict):\n",
    "        self.raw_response = raw_response\n",
    "        \n",
    "    \n",
    "    @staticmethod\n",
    "    def create_initial_dict(raw_response:dict) -> dict:\n",
    "        \"\"\" \n",
    "        Return a dict with the main subject pages as key and the page id as title\n",
    "        \"\"\"\n",
    "        # On itére dans la database directement là (première couche)\n",
    "        results = raw_response[\"results\"]\n",
    "        \n",
    "        initial_dict = {}\n",
    "        \n",
    "        page:dict\n",
    "        for page in results:\n",
    "            page_id = page['id']\n",
    "            page_name = page['properties']['Pages']['title'][0]['plain_text']\n",
    "            initial_dict[page_name] = page_id\n",
    "            \n",
    "        return initial_dict\n",
    "    \n",
    "    @staticmethod\n",
    "    def get_response_results(response_json:dict) -> list:\n",
    "        return response_json.get(\"results\", [])\n",
    "    \n",
    "    \n",
    "\"\"\" \n",
    "Maintenant qu'on a les pages principales il faut ; \n",
    "- Qu'on itère dans chaque main page \n",
    "- Qu'on détecte les pages enfants\n",
    "- Qu'on récupére les subpages des pages enfants \n",
    "- Si jamais une subpage ne contient que des pages et pas de texte, il ne faut pas l'ajouter dans le système \n",
    "- Il faut garder le tag (le nom principale qui nous vient du premier dict) de chaque sous page\n",
    "\n",
    "\"\"\"\n",
    "    \n",
    "        \n",
    "fetcher = ResultFetcher(raw_response=raw_response)\n",
    "\n",
    "fetcher.create_initial_dict(raw_response)"
   ]
  },
  {
   "cell_type": "code",
   "execution_count": 52,
   "metadata": {},
   "outputs": [
    {
     "data": {
      "text/plain": [
       "3"
      ]
     },
     "execution_count": 52,
     "metadata": {},
     "output_type": "execute_result"
    }
   ],
   "source": [
    "len(raw_response[\"results\"])"
   ]
  },
  {
   "cell_type": "code",
   "execution_count": 53,
   "metadata": {},
   "outputs": [
    {
     "data": {
      "text/plain": [
       "'fcbca7da-3517-4163-9362-21525d5784f1'"
      ]
     },
     "execution_count": 53,
     "metadata": {},
     "output_type": "execute_result"
    }
   ],
   "source": [
    "block_id = \"fcbca7da-3517-4163-9362-21525d5784f1\"\n",
    "block_id"
   ]
  },
  {
   "cell_type": "code",
   "execution_count": 54,
   "metadata": {},
   "outputs": [
    {
     "name": "stdout",
     "output_type": "stream",
     "text": [
      "1\n"
     ]
    }
   ],
   "source": [
    "# Get subpages\n",
    "url = f'https://api.notion.com/v1/blocks/{block_id}/children'\n",
    "\n",
    "\n",
    "response = requests.get(url, headers=headers)\n",
    "\n",
    "print(len(response.json()[\"results\"])) # 2 subpages"
   ]
  },
  {
   "cell_type": "code",
   "execution_count": 55,
   "metadata": {},
   "outputs": [
    {
     "data": {
      "text/plain": [
       "{'object': 'list',\n",
       " 'results': [{'object': 'block',\n",
       "   'id': '6c7ba276-b6ed-4d39-ade2-8e29cf0cd321',\n",
       "   'parent': {'type': 'page_id',\n",
       "    'page_id': 'fcbca7da-3517-4163-9362-21525d5784f1'},\n",
       "   'created_time': '2024-08-23T12:20:00.000Z',\n",
       "   'last_edited_time': '2024-08-23T12:20:00.000Z',\n",
       "   'created_by': {'object': 'user',\n",
       "    'id': '095667f4-633c-4a3c-9ae2-b0da56bd7e27'},\n",
       "   'last_edited_by': {'object': 'user',\n",
       "    'id': '095667f4-633c-4a3c-9ae2-b0da56bd7e27'},\n",
       "   'has_children': False,\n",
       "   'archived': False,\n",
       "   'in_trash': False,\n",
       "   'type': 'paragraph',\n",
       "   'paragraph': {'rich_text': [{'type': 'text',\n",
       "      'text': {'content': 'Salut toi', 'link': None},\n",
       "      'annotations': {'bold': False,\n",
       "       'italic': False,\n",
       "       'strikethrough': False,\n",
       "       'underline': False,\n",
       "       'code': False,\n",
       "       'color': 'default'},\n",
       "      'plain_text': 'Salut toi',\n",
       "      'href': None}],\n",
       "    'color': 'default'}}],\n",
       " 'next_cursor': None,\n",
       " 'has_more': False,\n",
       " 'type': 'block',\n",
       " 'block': {},\n",
       " 'request_id': '785e87df-9485-4ad6-a5cb-74581697071a'}"
      ]
     },
     "execution_count": 55,
     "metadata": {},
     "output_type": "execute_result"
    }
   ],
   "source": [
    "response.json()"
   ]
  },
  {
   "cell_type": "code",
   "execution_count": 56,
   "metadata": {},
   "outputs": [
    {
     "data": {
      "text/plain": [
       "[{'object': 'block',\n",
       "  'id': '6c7ba276-b6ed-4d39-ade2-8e29cf0cd321',\n",
       "  'parent': {'type': 'page_id',\n",
       "   'page_id': 'fcbca7da-3517-4163-9362-21525d5784f1'},\n",
       "  'created_time': '2024-08-23T12:20:00.000Z',\n",
       "  'last_edited_time': '2024-08-23T12:20:00.000Z',\n",
       "  'created_by': {'object': 'user',\n",
       "   'id': '095667f4-633c-4a3c-9ae2-b0da56bd7e27'},\n",
       "  'last_edited_by': {'object': 'user',\n",
       "   'id': '095667f4-633c-4a3c-9ae2-b0da56bd7e27'},\n",
       "  'has_children': False,\n",
       "  'archived': False,\n",
       "  'in_trash': False,\n",
       "  'type': 'paragraph',\n",
       "  'paragraph': {'rich_text': [{'type': 'text',\n",
       "     'text': {'content': 'Salut toi', 'link': None},\n",
       "     'annotations': {'bold': False,\n",
       "      'italic': False,\n",
       "      'strikethrough': False,\n",
       "      'underline': False,\n",
       "      'code': False,\n",
       "      'color': 'default'},\n",
       "     'plain_text': 'Salut toi',\n",
       "     'href': None}],\n",
       "   'color': 'default'}}]"
      ]
     },
     "execution_count": 56,
     "metadata": {},
     "output_type": "execute_result"
    }
   ],
   "source": [
    "response.json()[\"results\"]"
   ]
  },
  {
   "cell_type": "code",
   "execution_count": 57,
   "metadata": {},
   "outputs": [],
   "source": [
    "# id de la subpage, le but c'est de récup son URL\n",
    "subpage_id = response.json().get(\"results\")[0][\"id\"]\n",
    "\n",
    "url = f'https://api.notion.com/v1/blocks/{subpage_id}/children'\n",
    "\n",
    "response = requests.get(url, headers=headers)"
   ]
  },
  {
   "cell_type": "code",
   "execution_count": 58,
   "metadata": {},
   "outputs": [
    {
     "data": {
      "text/plain": [
       "{'object': 'error',\n",
       " 'status': 404,\n",
       " 'code': 'object_not_found',\n",
       " 'message': 'Could not find page with ID: 6c7ba276-b6ed-4d39-ade2-8e29cf0cd321. Make sure the relevant pages and databases are shared with your integration.',\n",
       " 'request_id': '8783ba35-5b12-4880-ad8f-5810afb9703f'}"
      ]
     },
     "execution_count": 58,
     "metadata": {},
     "output_type": "execute_result"
    }
   ],
   "source": [
    "url = f'https://api.notion.com/v1/pages/{subpage_id}'\n",
    "\n",
    "response = requests.get(url, headers=headers)\n",
    "\n",
    "response.json()"
   ]
  },
  {
   "cell_type": "code",
   "execution_count": 59,
   "metadata": {},
   "outputs": [
    {
     "data": {
      "text/plain": [
       "{'object': 'error',\n",
       " 'status': 404,\n",
       " 'code': 'object_not_found',\n",
       " 'message': 'Could not find page with ID: 6c7ba276-b6ed-4d39-ade2-8e29cf0cd321. Make sure the relevant pages and databases are shared with your integration.',\n",
       " 'request_id': '8783ba35-5b12-4880-ad8f-5810afb9703f'}"
      ]
     },
     "execution_count": 59,
     "metadata": {},
     "output_type": "execute_result"
    }
   ],
   "source": [
    "response.json()"
   ]
  }
 ],
 "metadata": {
  "kernelspec": {
   "display_name": "Python 3",
   "language": "python",
   "name": "python3"
  },
  "language_info": {
   "codemirror_mode": {
    "name": "ipython",
    "version": 3
   },
   "file_extension": ".py",
   "mimetype": "text/x-python",
   "name": "python",
   "nbconvert_exporter": "python",
   "pygments_lexer": "ipython3",
   "version": "3.10.12"
  }
 },
 "nbformat": 4,
 "nbformat_minor": 2
}
