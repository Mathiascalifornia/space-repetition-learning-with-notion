{
 "cells": [
  {
   "cell_type": "code",
   "execution_count": 2,
   "metadata": {},
   "outputs": [],
   "source": [
    "from typing import Optional, List, Dict, Generator, Any, Tuple\n",
    "from collections import defaultdict, deque\n",
    "\n",
    "\n",
    "import requests\n",
    "from pydantic import HttpUrl\n",
    "\n",
    "from srl_notion.api_connection import NotionAPIConnector\n",
    "from srl_notion.api_result_fetcher import ResultFetcher\n",
    "from srl_notion.dict_deque import DictQueueStructure\n",
    "from srl_notion.updater import DictDequeueStructureUpdater\n",
    "\n",
    "connector = NotionAPIConnector()\n",
    "raw_response:dict = connector.main()\n",
    "headers = connector.headers\n",
    "\n",
    "fetcher = ResultFetcher(raw_response=raw_response, headers=headers)\n",
    "\n",
    "res = fetcher.main()"
   ]
  },
  {
   "cell_type": "code",
   "execution_count": 3,
   "metadata": {},
   "outputs": [
    {
     "data": {
      "text/plain": [
       "defaultdict(collections.deque,\n",
       "            {'Ton per': deque([{'OMG une page ! (1)': 'https://www.notion.so/OMG-une-page-1-14c3cb01ecb04518a3641291e6e4d109'},\n",
       "                    {'Truc (1)': 'https://www.notion.so/Truc-1-604d0ff2fe544013bb6708b58f8ba65c'}]),\n",
       "             'ta mere': deque([{'ta mere': 'https://www.notion.so/ta-mere-80497c9312324710b14db45a27563932'}]),\n",
       "             'Page test': deque([{'Propal Raphael ': 'https://www.notion.so/Propal-Raphael-e266eee4b5134c48a7937dfa05b5240f'},\n",
       "                    {'ma bite t': 'https://www.notion.so/ma-bite-t-7c547acf50de431a8b9559858a152330'},\n",
       "                    {'Machin': 'https://www.notion.so/Machin-ee95162e13c349f38ea78253611910d9'}])})"
      ]
     },
     "execution_count": 3,
     "metadata": {},
     "output_type": "execute_result"
    }
   ],
   "source": [
    "res"
   ]
  },
  {
   "cell_type": "code",
   "execution_count": 6,
   "metadata": {},
   "outputs": [
    {
     "data": {
      "text/plain": [
       "PosixPath('/home/lucas/all_code/notion_srl/space-repetition-learning-with-notion/data_structure.pkl')"
      ]
     },
     "execution_count": 6,
     "metadata": {},
     "output_type": "execute_result"
    }
   ],
   "source": [
    "import pickle\n",
    "import pathlib\n",
    "\n",
    "def load_pickle(path_object: pathlib.Path) -> Any:\n",
    "    with open(path_object, \"rb\", encoding=\"utf-8\") as f:  # rb -> Read Binary\n",
    "        return pickle.load(f)\n",
    "\n",
    "@staticmethod\n",
    "def save_pickle(object_: Any, path_to_save: pathlib.Path) -> None:\n",
    "    with open(path_to_save, \"wb\", encoding=\"utf-8\") as f:\n",
    "        pickle.dump(object_, f)"
   ]
  },
  {
   "cell_type": "code",
   "execution_count": null,
   "metadata": {},
   "outputs": [],
   "source": [
    "updater = DictDequeueStructureUpdater(response_result_fetcher=res)\n",
    "updater"
   ]
  },
  {
   "cell_type": "code",
   "execution_count": null,
   "metadata": {},
   "outputs": [],
   "source": [
    "class InterfaceUser:\n",
    "    \n",
    "    \"\"\" \n",
    "    Bridge between the user and the data structure\n",
    "    Take the up to date data structure, modify it as the user interact with it \n",
    "    \"\"\"\n",
    "    \n",
    "class DictDequeueStructureUpdater:\n",
    "    \n",
    "    \"\"\" \n",
    "    Take the raw response from the result fetcher, and the previous saved data structure\n",
    "    update the data structure before going to the inferface\n",
    "    Save the structure with it's new order at the end of the execution\n",
    "    \"\"\""
   ]
  }
 ],
 "metadata": {
  "kernelspec": {
   "display_name": "Python 3",
   "language": "python",
   "name": "python3"
  },
  "language_info": {
   "codemirror_mode": {
    "name": "ipython",
    "version": 3
   },
   "file_extension": ".py",
   "mimetype": "text/x-python",
   "name": "python",
   "nbconvert_exporter": "python",
   "pygments_lexer": "ipython3",
   "version": "3.10.12"
  }
 },
 "nbformat": 4,
 "nbformat_minor": 2
}
