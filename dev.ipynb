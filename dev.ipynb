{
 "cells": [
  {
   "cell_type": "code",
   "execution_count": 65,
   "metadata": {},
   "outputs": [],
   "source": [
    "from typing import Optional, List, Dict, Generator\n",
    "\n",
    "import requests\n",
    "from pydantic import HttpUrl\n",
    "\n",
    "from api_connection import NotionAPIConnector\n",
    "\n",
    "connector = NotionAPIConnector()\n",
    "raw_response:dict = connector.main()\n",
    "headers = connector.headers"
   ]
  },
  {
   "cell_type": "code",
   "execution_count": 67,
   "metadata": {},
   "outputs": [],
   "source": [
    "class ResultFetcher:\n",
    "    \n",
    "    \n",
    "    GET_CHILDREN_URL = 'https://api.notion.com/v1/blocks/{}/children' # Fill with id \n",
    "    GET_PAGE_INFO =  'https://api.notion.com/v1/pages/{}' # Fill with id \n",
    "    \n",
    "    PAGE_COL_NAME = \"Pages\"\n",
    "    # DESC_COL_NAME = \"Description\"\n",
    "    \n",
    "    \"\"\" \n",
    "    Fetch the results of the raw json response (from NotionAPIConnector)\n",
    "    \"\"\"\n",
    "    \n",
    "    def __init__(self, raw_response:dict):\n",
    "        self.raw_response = raw_response\n",
    "        \n",
    "    \n",
    "    @staticmethod\n",
    "    def create_initial_dict(raw_response:dict) -> dict:\n",
    "        \"\"\" \n",
    "        Return a dict with the main subject pages as key and the page id as title\n",
    "        \"\"\"\n",
    "        # On itére dans la database directement là (première couche)\n",
    "        results = raw_response[\"results\"]\n",
    "        \n",
    "        initial_dict = {}\n",
    "        \n",
    "        page:dict\n",
    "        for page in results:\n",
    "            page_id = page['id']\n",
    "            page_name = page['properties']['Pages']['title'][0]['plain_text']\n",
    "            initial_dict[page_name] = page_id\n",
    "            \n",
    "        return initial_dict\n",
    "    \n",
    "    @staticmethod\n",
    "    def get_response_results(response_json:dict) -> list:\n",
    "        return response_json.get(\"results\", [])\n",
    "    \n",
    "    @staticmethod \n",
    "    def fetch_url(headers:dict, url:HttpUrl) -> Optional[dict]:\n",
    "        response = requests.get(url, headers=headers)\n",
    "        \n",
    "        if response.status_code == 200:\n",
    "            return response.json()\n",
    "        else:\n",
    "            response.raise_for_status() \n",
    "            \n",
    "    @staticmethod \n",
    "    def fetch_children_from_page(id_:str, headers:dict) -> Optional[dict]:\n",
    "        url = ResultFetcher.GET_CHILDREN_URL.format(id_)\n",
    "        return ResultFetcher.get_response_results(ResultFetcher.fetch_url(headers=headers, url=url))\n",
    "    \n",
    "    @staticmethod \n",
    "    def fetch_page_info(id_:str, headers:dict) -> Optional[dict]:\n",
    "        url = ResultFetcher.GET_PAGE_INFO.format(id_)\n",
    "        return ResultFetcher.fetch_url(headers=headers, url=url)\n",
    "    \n",
    "    @staticmethod\n",
    "    def is_it_a_container_page(result_from_children_endpoint:List[Dict]) -> bool:\n",
    "        return all(page[\"type\"] == \"child_page\" for page in result_from_children_endpoint)\n",
    "    \n",
    "\n",
    "    def main(self) -> Generator:\n",
    "        \n",
    "        initial_dict:dict = ResultFetcher.create_initial_dict(raw_response=self.raw_response)\n",
    "        \n",
    "        main_page_name:str\n",
    "        main_page_id:str\n",
    "        for main_page_name, main_page_id in initial_dict.items():\n",
    "            \n",
    "            iteration_over = False\n",
    "            while not iteration_over:\n",
    "                \n",
    "                # Définir la logique d'itération récursive pour itérer jusqu'a ce qu'il n'y ait plus rien à récupérer\n",
    "                pass\n",
    "        \n",
    "        \n",
    "            \n",
    "\n",
    "    \n",
    "    \n",
    "\n",
    "    \n",
    "        \n",
    "fetcher = ResultFetcher(raw_response=raw_response)\n",
    "\n",
    "initial_dict = fetcher.create_initial_dict(raw_response)\n",
    "\n",
    "assert len(raw_response[\"results\"]) == 3"
   ]
  },
  {
   "cell_type": "code",
   "execution_count": 66,
   "metadata": {},
   "outputs": [
    {
     "data": {
      "text/plain": [
       "{'Ton per': 'fcbca7da-3517-4163-9362-21525d5784f1',\n",
       " 'ta mere': '80497c93-1232-4710-b14d-b45a27563932',\n",
       " 'Page test': 'e54dd41c-3ac2-47bb-b721-8cbb744990de'}"
      ]
     },
     "execution_count": 66,
     "metadata": {},
     "output_type": "execute_result"
    }
   ],
   "source": [
    "initial_dict"
   ]
  },
  {
   "cell_type": "code",
   "execution_count": 72,
   "metadata": {},
   "outputs": [],
   "source": [
    "# Exemple ; On va chopper les enfants de cette main page\n",
    "# Au passage on va faire en sorte de détecter si cette page est juste un container de page ou bien si elle contient du texte\n",
    "id_ = initial_dict['Ton per']\n",
    "\n",
    "r = fetcher.fetch_children_from_page(id_=id_, headers=headers)"
   ]
  },
  {
   "cell_type": "code",
   "execution_count": 73,
   "metadata": {},
   "outputs": [
    {
     "data": {
      "text/plain": [
       "[{'object': 'block',\n",
       "  'id': '14c3cb01-ecb0-4518-a364-1291e6e4d109',\n",
       "  'parent': {'type': 'page_id',\n",
       "   'page_id': 'fcbca7da-3517-4163-9362-21525d5784f1'},\n",
       "  'created_time': '2024-08-24T13:16:00.000Z',\n",
       "  'last_edited_time': '2024-08-24T13:16:00.000Z',\n",
       "  'created_by': {'object': 'user',\n",
       "   'id': '095667f4-633c-4a3c-9ae2-b0da56bd7e27'},\n",
       "  'last_edited_by': {'object': 'user',\n",
       "   'id': '095667f4-633c-4a3c-9ae2-b0da56bd7e27'},\n",
       "  'has_children': False,\n",
       "  'archived': False,\n",
       "  'in_trash': False,\n",
       "  'type': 'child_page',\n",
       "  'child_page': {'title': 'OMG une page ! (1)'}},\n",
       " {'object': 'block',\n",
       "  'id': '604d0ff2-fe54-4013-bb67-08b58f8ba65c',\n",
       "  'parent': {'type': 'page_id',\n",
       "   'page_id': 'fcbca7da-3517-4163-9362-21525d5784f1'},\n",
       "  'created_time': '2024-08-24T13:16:00.000Z',\n",
       "  'last_edited_time': '2024-08-24T13:16:00.000Z',\n",
       "  'created_by': {'object': 'user',\n",
       "   'id': '095667f4-633c-4a3c-9ae2-b0da56bd7e27'},\n",
       "  'last_edited_by': {'object': 'user',\n",
       "   'id': '095667f4-633c-4a3c-9ae2-b0da56bd7e27'},\n",
       "  'has_children': False,\n",
       "  'archived': False,\n",
       "  'in_trash': False,\n",
       "  'type': 'child_page',\n",
       "  'child_page': {'title': 'Truc (1)'}},\n",
       " {'object': 'block',\n",
       "  'id': '62cf79e1-f6c0-4530-a5e1-2be094544e67',\n",
       "  'parent': {'type': 'page_id',\n",
       "   'page_id': 'fcbca7da-3517-4163-9362-21525d5784f1'},\n",
       "  'created_time': '2024-08-24T13:16:00.000Z',\n",
       "  'last_edited_time': '2024-08-24T13:16:00.000Z',\n",
       "  'created_by': {'object': 'user',\n",
       "   'id': '095667f4-633c-4a3c-9ae2-b0da56bd7e27'},\n",
       "  'last_edited_by': {'object': 'user',\n",
       "   'id': '095667f4-633c-4a3c-9ae2-b0da56bd7e27'},\n",
       "  'has_children': False,\n",
       "  'archived': False,\n",
       "  'in_trash': False,\n",
       "  'type': 'paragraph',\n",
       "  'paragraph': {'rich_text': [], 'color': 'default'}}]"
      ]
     },
     "execution_count": 73,
     "metadata": {},
     "output_type": "execute_result"
    }
   ],
   "source": [
    "r"
   ]
  },
  {
   "cell_type": "code",
   "execution_count": 58,
   "metadata": {},
   "outputs": [
    {
     "data": {
      "text/plain": [
       "[{'object': 'block',\n",
       "  'id': '3b174b16-1158-4acc-a049-637c234d48fd',\n",
       "  'parent': {'type': 'page_id',\n",
       "   'page_id': 'fcbca7da-3517-4163-9362-21525d5784f1'},\n",
       "  'created_time': '2024-08-24T12:23:00.000Z',\n",
       "  'last_edited_time': '2024-08-24T12:58:00.000Z',\n",
       "  'created_by': {'object': 'user',\n",
       "   'id': '095667f4-633c-4a3c-9ae2-b0da56bd7e27'},\n",
       "  'last_edited_by': {'object': 'user',\n",
       "   'id': '095667f4-633c-4a3c-9ae2-b0da56bd7e27'},\n",
       "  'has_children': False,\n",
       "  'archived': False,\n",
       "  'in_trash': False,\n",
       "  'type': 'child_page',\n",
       "  'child_page': {'title': 'OMG une page !'}},\n",
       " {'object': 'block',\n",
       "  'id': '5b4f7f4e-37ac-40c8-a060-ee7000a45ed7',\n",
       "  'parent': {'type': 'page_id',\n",
       "   'page_id': 'fcbca7da-3517-4163-9362-21525d5784f1'},\n",
       "  'created_time': '2024-08-24T13:00:00.000Z',\n",
       "  'last_edited_time': '2024-08-24T13:00:00.000Z',\n",
       "  'created_by': {'object': 'user',\n",
       "   'id': '095667f4-633c-4a3c-9ae2-b0da56bd7e27'},\n",
       "  'last_edited_by': {'object': 'user',\n",
       "   'id': '095667f4-633c-4a3c-9ae2-b0da56bd7e27'},\n",
       "  'has_children': False,\n",
       "  'archived': False,\n",
       "  'in_trash': False,\n",
       "  'type': 'child_page',\n",
       "  'child_page': {'title': 'Truc'}}]"
      ]
     },
     "execution_count": 58,
     "metadata": {},
     "output_type": "execute_result"
    }
   ],
   "source": [
    "r"
   ]
  },
  {
   "cell_type": "code",
   "execution_count": 53,
   "metadata": {},
   "outputs": [
    {
     "data": {
      "text/plain": [
       "{'object': 'page',\n",
       " 'id': 'fcbca7da-3517-4163-9362-21525d5784f1',\n",
       " 'created_time': '2024-08-22T16:54:00.000Z',\n",
       " 'last_edited_time': '2024-08-24T12:23:00.000Z',\n",
       " 'created_by': {'object': 'user',\n",
       "  'id': '095667f4-633c-4a3c-9ae2-b0da56bd7e27'},\n",
       " 'last_edited_by': {'object': 'user',\n",
       "  'id': '095667f4-633c-4a3c-9ae2-b0da56bd7e27'},\n",
       " 'cover': None,\n",
       " 'icon': None,\n",
       " 'parent': {'type': 'database_id',\n",
       "  'database_id': '83d8eeff-db5a-411b-a460-4e5b68d7080f'},\n",
       " 'archived': False,\n",
       " 'in_trash': False,\n",
       " 'properties': {'Description': {'id': 'j%5BCS',\n",
       "   'type': 'rich_text',\n",
       "   'rich_text': [{'type': 'text',\n",
       "     'text': {'content': 'test', 'link': None},\n",
       "     'annotations': {'bold': False,\n",
       "      'italic': False,\n",
       "      'strikethrough': False,\n",
       "      'underline': False,\n",
       "      'code': False,\n",
       "      'color': 'default'},\n",
       "     'plain_text': 'test',\n",
       "     'href': None}]},\n",
       "  'Pages': {'id': 'title',\n",
       "   'type': 'title',\n",
       "   'title': [{'type': 'text',\n",
       "     'text': {'content': 'Ton per', 'link': None},\n",
       "     'annotations': {'bold': False,\n",
       "      'italic': False,\n",
       "      'strikethrough': False,\n",
       "      'underline': False,\n",
       "      'code': False,\n",
       "      'color': 'default'},\n",
       "     'plain_text': 'Ton per',\n",
       "     'href': None}]}},\n",
       " 'url': 'https://www.notion.so/Ton-per-fcbca7da35174163936221525d5784f1',\n",
       " 'public_url': None,\n",
       " 'request_id': 'b5fd9ddb-9ec3-49b8-a23c-05f2005523cc'}"
      ]
     },
     "execution_count": 53,
     "metadata": {},
     "output_type": "execute_result"
    }
   ],
   "source": [
    "page_id = \"fcbca7da-3517-4163-9362-21525d5784f1\"\n",
    "fetcher.fetch_page_info(id_=id_, headers=headers)"
   ]
  },
  {
   "cell_type": "code",
   "execution_count": 43,
   "metadata": {},
   "outputs": [
    {
     "data": {
      "text/plain": [
       "[]"
      ]
     },
     "execution_count": 43,
     "metadata": {},
     "output_type": "execute_result"
    }
   ],
   "source": [
    "id_ = \"fcbca7da-3517-4163-9362-21525d5784f1\"\n",
    "fetcher.fetch_page_info(id_=id_, headers=headers)"
   ]
  },
  {
   "cell_type": "code",
   "execution_count": 38,
   "metadata": {},
   "outputs": [
    {
     "data": {
      "text/plain": [
       "{'object': 'error',\n",
       " 'status': 400,\n",
       " 'code': 'validation_error',\n",
       " 'message': 'path failed validation: path.page_id should be a valid uuid, instead was `\"da-3517-4163-9362-21525d5784f1\"`.',\n",
       " 'request_id': '7cbaf5b1-d69b-47c5-88f3-2abe84b4e510'}"
      ]
     },
     "execution_count": 38,
     "metadata": {},
     "output_type": "execute_result"
    }
   ],
   "source": [
    "url = f'https://api.notion.com/v1/pages/da-3517-4163-9362-21525d5784f1'\n",
    "\n",
    "response = requests.get(url, headers=headers)\n",
    "\n",
    "response.json()"
   ]
  }
 ],
 "metadata": {
  "kernelspec": {
   "display_name": "Python 3",
   "language": "python",
   "name": "python3"
  },
  "language_info": {
   "codemirror_mode": {
    "name": "ipython",
    "version": 3
   },
   "file_extension": ".py",
   "mimetype": "text/x-python",
   "name": "python",
   "nbconvert_exporter": "python",
   "pygments_lexer": "ipython3",
   "version": "3.10.12"
  }
 },
 "nbformat": 4,
 "nbformat_minor": 2
}
