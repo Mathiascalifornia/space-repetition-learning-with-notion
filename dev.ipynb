{
 "cells": [
  {
   "cell_type": "code",
   "execution_count": 1,
   "metadata": {},
   "outputs": [],
   "source": [
    "import os \n",
    "from typing import Any\n",
    "\n",
    "import requests\n",
    "from dotenv import load_dotenv\n",
    "\n",
    "\n",
    "\n",
    "def load_env_key(key_to_load:str) -> Any:\n",
    "    load_dotenv()\n",
    "    return os.getenv(key_to_load)\n",
    "\n",
    "\n",
    "def get_raw_json_response_from_db_id_notion(notion_api_key:str, \n",
    "                                            database_id:str,\n",
    "                                            notion_version:str=\"2022-06-28\") -> dict:\n",
    "    \n",
    "    headers = {\n",
    "    \"Authorization\": f\"Bearer {notion_api_key}\",\n",
    "    \"Content-Type\": \"application/json\",\n",
    "    \"Notion-Version\": notion_version\n",
    "    }\n",
    "    \n",
    "    url = f\"https://api.notion.com/v1/databases/{database_id}/query\"\n",
    "    print(\"Requesting\")\n",
    "    response = requests.post(url, headers=headers)\n",
    "    print(\"Requested\")\n",
    "    status_code = response.status_code\n",
    "    \n",
    "    assert status_code == 200 , f\"Bad response ; {status_code}\\nresponse : {response.text}\"\n",
    "    \n",
    "    return response.json()\n",
    "    "
   ]
  },
  {
   "cell_type": "code",
   "execution_count": 2,
   "metadata": {},
   "outputs": [
    {
     "name": "stdout",
     "output_type": "stream",
     "text": [
      "secret_FDl9bPlkaeOVM0sGrEjx0M3PCVWvUZrfdWhI7EQRMpx\n",
      "441702ddc48a4b9daf5608b746020882\n",
      "Requesting\n"
     ]
    }
   ],
   "source": [
    "api_key:str = load_env_key(key_to_load=\"api_workspace\")\n",
    "database_id:str = load_env_key(key_to_load=\"database_id\")\n",
    "\n",
    "print(api_key)\n",
    "print(database_id)\n",
    "\n",
    "\n",
    "json_response = get_raw_json_response_from_db_id_notion(notion_api_key=api_key, database_id=database_id)"
   ]
  },
  {
   "cell_type": "code",
   "execution_count": null,
   "metadata": {},
   "outputs": [],
   "source": [
    "# Parse the page, get subpages\n",
    "pages = json_response.get(\"results\", [])\n",
    "for page in pages:\n",
    "    page_id = page['id']\n",
    "    print(page.keys())\n",
    "    print(page_id[\"properties\"])\n",
    "    page_title = page['properties']['Name']['title'][0]['plain_text']\n",
    "    print(f\"Page: {page_title}, ID: {page_id}\")"
   ]
  }
 ],
 "metadata": {
  "kernelspec": {
   "display_name": "Python 3",
   "language": "python",
   "name": "python3"
  },
  "language_info": {
   "codemirror_mode": {
    "name": "ipython",
    "version": 3
   },
   "file_extension": ".py",
   "mimetype": "text/x-python",
   "name": "python",
   "nbconvert_exporter": "python",
   "pygments_lexer": "ipython3",
   "version": "3.10.12"
  }
 },
 "nbformat": 4,
 "nbformat_minor": 2
}
