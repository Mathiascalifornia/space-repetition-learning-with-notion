{
 "cells": [
  {
   "cell_type": "code",
   "execution_count": 1,
   "metadata": {},
   "outputs": [],
   "source": [
    "import os \n",
    "from typing import Any\n",
    "\n",
    "import requests\n",
    "from dotenv import load_dotenv\n",
    "\n",
    "\n",
    "\n",
    "def load_env_key(key_to_load:str) -> Any:\n",
    "    load_dotenv()\n",
    "    return os.getenv(key_to_load)\n",
    "\n",
    "\n",
    "def get_raw_json_response_from_db_id_notion(notion_api_key:str, \n",
    "                                            database_id:str,\n",
    "                                            notion_version:str=\"2022-06-28\") -> dict:\n",
    "    \n",
    "    headers = {\n",
    "    \"Authorization\": f\"Bearer {notion_api_key}\",\n",
    "    \"Content-Type\": \"application/json\",\n",
    "    \"Notion-Version\": notion_version\n",
    "    }\n",
    "    \n",
    "    url = f\"https://api.notion.com/v1/databases/{database_id}/query\"\n",
    "    response = requests.post(url, headers=headers)\n",
    "    status_code = response.status_code\n",
    "    \n",
    "    assert status_code == 200 , f\"Bad response ; {status_code}\\nresponse : {response.text}\"\n",
    "    \n",
    "    return response.json()\n",
    "    "
   ]
  },
  {
   "cell_type": "code",
   "execution_count": 2,
   "metadata": {},
   "outputs": [],
   "source": [
    "api_key:str = load_env_key(key_to_load=\"api_workspace\")\n",
    "database_id:str = load_env_key(key_to_load=\"database_id\")\n",
    "\n",
    "json_response = get_raw_json_response_from_db_id_notion(notion_api_key=api_key, database_id=database_id)"
   ]
  },
  {
   "cell_type": "code",
   "execution_count": 10,
   "metadata": {},
   "outputs": [
    {
     "name": "stdout",
     "output_type": "stream",
     "text": [
      "dict_keys(['object', 'id', 'created_time', 'last_edited_time', 'created_by', 'last_edited_by', 'cover', 'icon', 'parent', 'archived', 'in_trash', 'properties', 'url', 'public_url'])\n"
     ]
    },
    {
     "ename": "TypeError",
     "evalue": "string indices must be integers",
     "output_type": "error",
     "traceback": [
      "\u001b[0;31m---------------------------------------------------------------------------\u001b[0m",
      "\u001b[0;31mTypeError\u001b[0m                                 Traceback (most recent call last)",
      "Cell \u001b[0;32mIn[10], line 5\u001b[0m\n\u001b[1;32m      3\u001b[0m page_id \u001b[38;5;241m=\u001b[39m page[\u001b[38;5;124m'\u001b[39m\u001b[38;5;124mid\u001b[39m\u001b[38;5;124m'\u001b[39m]\n\u001b[1;32m      4\u001b[0m \u001b[38;5;28mprint\u001b[39m(page\u001b[38;5;241m.\u001b[39mkeys())\n\u001b[0;32m----> 5\u001b[0m \u001b[38;5;28mprint\u001b[39m(\u001b[43mpage_id\u001b[49m\u001b[43m[\u001b[49m\u001b[38;5;124;43m\"\u001b[39;49m\u001b[38;5;124;43mproperties\u001b[39;49m\u001b[38;5;124;43m\"\u001b[39;49m\u001b[43m]\u001b[49m)\n\u001b[1;32m      6\u001b[0m page_title \u001b[38;5;241m=\u001b[39m page[\u001b[38;5;124m'\u001b[39m\u001b[38;5;124mproperties\u001b[39m\u001b[38;5;124m'\u001b[39m][\u001b[38;5;124m'\u001b[39m\u001b[38;5;124mName\u001b[39m\u001b[38;5;124m'\u001b[39m][\u001b[38;5;124m'\u001b[39m\u001b[38;5;124mtitle\u001b[39m\u001b[38;5;124m'\u001b[39m][\u001b[38;5;241m0\u001b[39m][\u001b[38;5;124m'\u001b[39m\u001b[38;5;124mplain_text\u001b[39m\u001b[38;5;124m'\u001b[39m]\n\u001b[1;32m      7\u001b[0m \u001b[38;5;28mprint\u001b[39m(\u001b[38;5;124mf\u001b[39m\u001b[38;5;124m\"\u001b[39m\u001b[38;5;124mPage: \u001b[39m\u001b[38;5;132;01m{\u001b[39;00mpage_title\u001b[38;5;132;01m}\u001b[39;00m\u001b[38;5;124m, ID: \u001b[39m\u001b[38;5;132;01m{\u001b[39;00mpage_id\u001b[38;5;132;01m}\u001b[39;00m\u001b[38;5;124m\"\u001b[39m)\n",
      "\u001b[0;31mTypeError\u001b[0m: string indices must be integers"
     ]
    }
   ],
   "source": [
    "# Parse the page, get subpages\n",
    "pages = json_response.get(\"results\", [])\n",
    "for page in pages:\n",
    "    page_id = page['id']\n",
    "    print(page.keys())\n",
    "    print(page_id[\"properties\"])\n",
    "    page_title = page['properties']['Name']['title'][0]['plain_text']\n",
    "    print(f\"Page: {page_title}, ID: {page_id}\")"
   ]
  }
 ],
 "metadata": {
  "kernelspec": {
   "display_name": "Python 3",
   "language": "python",
   "name": "python3"
  },
  "language_info": {
   "codemirror_mode": {
    "name": "ipython",
    "version": 3
   },
   "file_extension": ".py",
   "mimetype": "text/x-python",
   "name": "python",
   "nbconvert_exporter": "python",
   "pygments_lexer": "ipython3",
   "version": "3.10.12"
  }
 },
 "nbformat": 4,
 "nbformat_minor": 2
}
