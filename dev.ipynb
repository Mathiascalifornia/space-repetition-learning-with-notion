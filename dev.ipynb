{
 "cells": [
  {
   "cell_type": "code",
   "execution_count": 5,
   "metadata": {},
   "outputs": [],
   "source": [
    "from typing import Optional, List, Dict, Generator, Any, Tuple\n",
    "from collections import defaultdict, deque\n",
    "\n",
    "\n",
    "import requests\n",
    "from pydantic import HttpUrl\n",
    "\n",
    "from srl_notion.api_connection import NotionAPIConnector\n",
    "from srl_notion.api_result_fetcher import ResultFetcher\n",
    "from srl_notion import utils\n",
    "\n",
    "connector = NotionAPIConnector()\n",
    "raw_response:dict = connector.main()\n",
    "headers = connector.headers\n",
    "\n",
    "fetcher = ResultFetcher(raw_response=raw_response, headers=headers)\n",
    "\n",
    "all_pages:List[Tuple] = [res for res in fetcher.main()]"
   ]
  },
  {
   "cell_type": "code",
   "execution_count": 6,
   "metadata": {},
   "outputs": [
    {
     "data": {
      "text/plain": [
       "[('Ton per',\n",
       "  {'OMG une page ! (1)': 'https://www.notion.so/OMG-une-page-1-14c3cb01ecb04518a3641291e6e4d109'}),\n",
       " ('Ton per',\n",
       "  {'Truc (1)': 'https://www.notion.so/Truc-1-604d0ff2fe544013bb6708b58f8ba65c'}),\n",
       " ('ta mere',\n",
       "  {'ta mere': 'https://www.notion.so/ta-mere-80497c9312324710b14db45a27563932'}),\n",
       " ('Page test',\n",
       "  {'Propal Raphael ': 'https://www.notion.so/Propal-Raphael-e266eee4b5134c48a7937dfa05b5240f'}),\n",
       " ('Page test',\n",
       "  {'ma bite t': 'https://www.notion.so/ma-bite-t-7c547acf50de431a8b9559858a152330'}),\n",
       " ('Page test',\n",
       "  {'Machin': 'https://www.notion.so/Machin-ee95162e13c349f38ea78253611910d9'})]"
      ]
     },
     "execution_count": 6,
     "metadata": {},
     "output_type": "execute_result"
    }
   ],
   "source": [
    "all_pages"
   ]
  },
  {
   "cell_type": "code",
   "execution_count": 11,
   "metadata": {},
   "outputs": [
    {
     "data": {
      "text/plain": [
       "defaultdict(collections.deque,\n",
       "            {'Ton per': deque([{'OMG une page ! (1)': 'https://www.notion.so/OMG-une-page-1-14c3cb01ecb04518a3641291e6e4d109'},\n",
       "                    {'Truc (1)': 'https://www.notion.so/Truc-1-604d0ff2fe544013bb6708b58f8ba65c'}]),\n",
       "             'ta mere': deque([{'ta mere': 'https://www.notion.so/ta-mere-80497c9312324710b14db45a27563932'}]),\n",
       "             'Page test': deque([{'Propal Raphael ': 'https://www.notion.so/Propal-Raphael-e266eee4b5134c48a7937dfa05b5240f'},\n",
       "                    {'ma bite t': 'https://www.notion.so/ma-bite-t-7c547acf50de431a8b9559858a152330'},\n",
       "                    {'Machin': 'https://www.notion.so/Machin-ee95162e13c349f38ea78253611910d9'}])})"
      ]
     },
     "execution_count": 11,
     "metadata": {},
     "output_type": "execute_result"
    }
   ],
   "source": [
    "def prepare_output(fetcher_results:List[Tuple[Dict[str, str]]]) -> defaultdict[str, deque]:\n",
    "    \n",
    "    defdict_deque = defaultdict(deque)\n",
    "    \n",
    "    subject:str\n",
    "    dict_page:Dict[str, HttpUrl]\n",
    "    for subject, dict_page in fetcher_results:\n",
    "        defdict_deque[tuple_[0]].append(tuple_[1])\n",
    "        \n",
    "    return defdict_deque\n",
    "        \n",
    "prepare_output(fetcher_results=all_pages)"
   ]
  },
  {
   "cell_type": "code",
   "execution_count": 12,
   "metadata": {},
   "outputs": [
    {
     "data": {
      "text/plain": [
       "defaultdict(collections.deque,\n",
       "            {'Ton per': deque([{'OMG une page ! (1)': 'https://www.notion.so/OMG-une-page-1-14c3cb01ecb04518a3641291e6e4d109'},\n",
       "                    {'Truc (1)': 'https://www.notion.so/Truc-1-604d0ff2fe544013bb6708b58f8ba65c'}]),\n",
       "             'ta mere': deque([{'ta mere': 'https://www.notion.so/ta-mere-80497c9312324710b14db45a27563932'}]),\n",
       "             'Page test': deque([{'Propal Raphael ': 'https://www.notion.so/Propal-Raphael-e266eee4b5134c48a7937dfa05b5240f'},\n",
       "                    {'ma bite t': 'https://www.notion.so/ma-bite-t-7c547acf50de431a8b9559858a152330'},\n",
       "                    {'Machin': 'https://www.notion.so/Machin-ee95162e13c349f38ea78253611910d9'}])})"
      ]
     },
     "execution_count": 12,
     "metadata": {},
     "output_type": "execute_result"
    }
   ],
   "source": [
    "def prepare_output(fetcher_results: List[Tuple[Dict[str, str]]]) -> defaultdict[str, deque]:\n",
    "    defdict_deque = defaultdict(deque)\n",
    "    for k, v in fetcher_results:\n",
    "        defdict_deque[k].append(v)\n",
    "    return defdict_deque\n",
    "\n",
    "\n",
    "prepare_output(fetcher_results=all_pages)"
   ]
  }
 ],
 "metadata": {
  "kernelspec": {
   "display_name": "Python 3",
   "language": "python",
   "name": "python3"
  },
  "language_info": {
   "codemirror_mode": {
    "name": "ipython",
    "version": 3
   },
   "file_extension": ".py",
   "mimetype": "text/x-python",
   "name": "python",
   "nbconvert_exporter": "python",
   "pygments_lexer": "ipython3",
   "version": "3.10.12"
  }
 },
 "nbformat": 4,
 "nbformat_minor": 2
}
