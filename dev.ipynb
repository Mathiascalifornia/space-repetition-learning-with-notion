{
 "cells": [
  {
   "cell_type": "code",
   "execution_count": 1,
   "metadata": {},
   "outputs": [],
   "source": [
    "from typing import Optional, List, Dict, Generator, Any, Tuple\n",
    "from collections import defaultdict, deque\n",
    "\n",
    "\n",
    "import requests\n",
    "from pydantic import HttpUrl\n",
    "\n",
    "from srl_notion.api_connection import NotionAPIConnector\n",
    "from srl_notion.api_result_fetcher import ResultFetcher\n",
    "from srl_notion.dict_deque import DictQueueStructure\n",
    "from srl_notion import utils\n",
    "\n",
    "connector = NotionAPIConnector()\n",
    "raw_response:dict = connector.main()\n",
    "headers = connector.headers\n",
    "\n",
    "fetcher = ResultFetcher(raw_response=raw_response, headers=headers)\n",
    "\n",
    "res = fetcher.main()"
   ]
  },
  {
   "cell_type": "code",
   "execution_count": null,
   "metadata": {},
   "outputs": [],
   "source": [
    "class InterfaceUser:\n",
    "    \n",
    "    \"\"\" \n",
    "    Bridge between the user and the data structure\n",
    "    Take the up to date data structure, modify it as the user interact with it \n",
    "    \"\"\"\n",
    "    \n",
    "class DictDequeueStructureUpdater:\n",
    "    \n",
    "    \"\"\" \n",
    "    Take the raw response from the result fetcher, and the previous saved data structure\n",
    "    update the data structure before going to the inferface\n",
    "    Save the structure with it's new order at the end of the execution\n",
    "    \"\"\""
   ]
  }
 ],
 "metadata": {
  "kernelspec": {
   "display_name": "Python 3",
   "language": "python",
   "name": "python3"
  },
  "language_info": {
   "codemirror_mode": {
    "name": "ipython",
    "version": 3
   },
   "file_extension": ".py",
   "mimetype": "text/x-python",
   "name": "python",
   "nbconvert_exporter": "python",
   "pygments_lexer": "ipython3",
   "version": "3.10.12"
  }
 },
 "nbformat": 4,
 "nbformat_minor": 2
}
